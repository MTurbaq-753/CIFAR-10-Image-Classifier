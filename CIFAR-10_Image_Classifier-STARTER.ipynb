{
 "cells": [
  {
   "cell_type": "markdown",
   "metadata": {},
   "source": [
    "# Introduction\n",
    "\n",
    "In this project, you will build a neural network of your own design to evaluate the CIFAR-10 dataset.\n",
    "\n",
    "To meet the requirements for this project, you will need to achieve an accuracy greater than 45%. \n",
    "If you want to beat Detectocorp's algorithm, you'll need to achieve an accuracy greater than 70%. \n",
    "(Beating Detectocorp's algorithm is not a requirement for passing this project, but you're encouraged to try!)\n",
    "\n",
    "Some of the benchmark results on CIFAR-10 include:\n",
    "\n",
    "78.9% Accuracy | [Deep Belief Networks; Krizhevsky, 2010](https://www.cs.toronto.edu/~kriz/conv-cifar10-aug2010.pdf)\n",
    "\n",
    "90.6% Accuracy | [Maxout Networks; Goodfellow et al., 2013](https://arxiv.org/pdf/1302.4389.pdf)\n",
    "\n",
    "96.0% Accuracy | [Wide Residual Networks; Zagoruyko et al., 2016](https://arxiv.org/pdf/1605.07146.pdf)\n",
    "\n",
    "99.0% Accuracy | [GPipe; Huang et al., 2018](https://arxiv.org/pdf/1811.06965.pdf)\n",
    "\n",
    "98.5% Accuracy | [Rethinking Recurrent Neural Networks and other Improvements for ImageClassification; Nguyen et al., 2020](https://arxiv.org/pdf/2007.15161.pdf)\n",
    "\n",
    "Research with this dataset is ongoing. Notably, many of these networks are quite large and quite expensive to train. \n",
    "\n",
    "## Imports"
   ]
  },
  {
   "cell_type": "code",
   "execution_count": 1,
   "metadata": {},
   "outputs": [],
   "source": [
    "## This cell contains the essential imports you will need – DO NOT CHANGE THE CONTENTS! ##\n",
    "import torch\n",
    "import torch.nn as nn\n",
    "import torch.nn.functional as F\n",
    "import torch.optim as optim\n",
    "import torchvision\n",
    "import torchvision.transforms as transforms\n",
    "import matplotlib.pyplot as plt\n",
    "import numpy as np"
   ]
  },
  {
   "cell_type": "markdown",
   "metadata": {},
   "source": [
    "## Load the Dataset\n",
    "\n",
    "Specify your transforms as a list first.\n",
    "The transforms module is already loaded as `transforms`.\n",
    "\n",
    "CIFAR-10 is fortunately included in the torchvision module.\n",
    "Then, you can create your dataset using the `CIFAR10` object from `torchvision.datasets` ([the documentation is available here](https://pytorch.org/docs/stable/torchvision/datasets.html#cifar)).\n",
    "Make sure to specify `download=True`! \n",
    "\n",
    "Once your dataset is created, you'll also need to define a `DataLoader` from the `torch.utils.data` module for both the train and the test set."
   ]
  },
  {
   "cell_type": "code",
   "execution_count": 2,
   "metadata": {},
   "outputs": [
    {
     "name": "stdout",
     "output_type": "stream",
     "text": [
      "Files already downloaded and verified\n",
      "Files already downloaded and verified\n"
     ]
    }
   ],
   "source": [
    "# Define transforms\n",
    "## YOUR CODE HERE ##\n",
    "train_transform_list = [transforms.RandomRotation(30),\n",
    "                        transforms.RandomHorizontalFlip(),\n",
    "                        transforms.ToTensor()\n",
    "                       ]\n",
    "\n",
    "test_transform_list = [\n",
    "                       transforms.ToTensor()\n",
    "                      ]\n",
    "\n",
    "train_transform = transforms.Compose(train_transform_list)\n",
    "test_transform = transforms.Compose(test_transform_list)\n",
    "\n",
    "# Create training set and define training dataloader\n",
    "## YOUR CODE HERE ##\n",
    "train_set = torchvision.datasets.CIFAR10(root='./data', download=True, transform = train_transform)\n",
    "trainloader = torch.utils.data.DataLoader(train_set, batch_size =  128)\n",
    "\n",
    "# Create test set and define test dataloader\n",
    "## YOUR CODE HERE ##\n",
    "test_set = torchvision.datasets.CIFAR10(root='./data', download=True, transform = test_transform)\n",
    "testloader = torch.utils.data.DataLoader(test_set, batch_size = 128)\n",
    "\n",
    "# The 10 classes in the dataset\n",
    "classes = ('plane', 'car', 'bird', 'cat', 'deer', 'dog', 'frog', 'horse', 'ship', 'truck')"
   ]
  },
  {
   "cell_type": "markdown",
   "metadata": {},
   "source": [
    "## Explore the Dataset\n",
    "Using matplotlib, numpy, and torch, explore the dimensions of your data.\n",
    "\n",
    "You can view images using the `show5` function defined below – it takes a data loader as an argument.\n",
    "Remember that normalized images will look really weird to you! You may want to try changing your transforms to view images.\n",
    "Typically using no transforms other than `toTensor()` works well for viewing – but not as well for training your network.\n",
    "If `show5` doesn't work, go back and check your code for creating your data loaders and your training/test sets."
   ]
  },
  {
   "cell_type": "code",
   "execution_count": 3,
   "metadata": {},
   "outputs": [],
   "source": [
    "def show5(img_loader):\n",
    "    dataiter = iter(img_loader)\n",
    "    \n",
    "    batch = next(dataiter)\n",
    "    labels = batch[1][0:5]\n",
    "    images = batch[0][0:5]\n",
    "    for i in range(5):\n",
    "        print(classes[labels[i]])\n",
    "        image = images[i].numpy()\n",
    "        print(image.shape)\n",
    "        plt.imshow(np.rot90(image.T, k=3))\n",
    "        plt.show()"
   ]
  },
  {
   "cell_type": "code",
   "execution_count": 4,
   "metadata": {},
   "outputs": [
    {
     "name": "stdout",
     "output_type": "stream",
     "text": [
      "frog\n",
      "(3, 32, 32)\n"
     ]
    },
    {
     "data": {
      "image/png": "[encoded data removed]",
      "text/plain": [
       "<matplotlib.figure.Figure at 0x7febc9183ef0>"
      ]
     },
     "metadata": {
      "needs_background": "light"
     },
     "output_type": "display_data"
    },
    {
     "name": "stdout",
     "output_type": "stream",
     "text": [
      "truck\n",
      "(3, 32, 32)\n"
     ]
    },
    {
     "data": {
      "image/png": "[encoded data removed]",
      "text/plain": [
       "<matplotlib.figure.Figure at 0x7feb6e60e748>"
      ]
     },
     "metadata": {
      "needs_background": "light"
     },
     "output_type": "display_data"
    },
    {
     "name": "stdout",
     "output_type": "stream",
     "text": [
      "truck\n",
      "(3, 32, 32)\n"
     ]
    },
    {
     "data": {
      "image/png": "[encoded data removed]",
      "text/plain": [
       "<matplotlib.figure.Figure at 0x7feb6e5e2048>"
      ]
     },
     "metadata": {
      "needs_background": "light"
     },
     "output_type": "display_data"
    },
    {
     "name": "stdout",
     "output_type": "stream",
     "text": [
      "deer\n",
      "(3, 32, 32)\n"
     ]
    },
    {
     "data": {
      "image/png": "[encoded data removed]",
      "text/plain": [
       "<matplotlib.figure.Figure at 0x7feb6e5ac4e0>"
      ]
     },
     "metadata": {
      "needs_background": "light"
     },
     "output_type": "display_data"
    },
    {
     "name": "stdout",
     "output_type": "stream",
     "text": [
      "car\n",
      "(3, 32, 32)\n"
     ]
    },
    {
     "data": {
      "image/png": "[encoded data removed]",
      "text/plain": [
       "<matplotlib.figure.Figure at 0x7feb5a0127f0>"
      ]
     },
     "metadata": {
      "needs_background": "light"
     },
     "output_type": "display_data"
    }
   ],
   "source": [
    "# Explore data\n",
    "## YOUR CODE HERE ##\n",
    "show5(trainloader)"
   ]
  },
  {
   "cell_type": "markdown",
   "metadata": {},
   "source": [
    "## Build your Neural Network\n",
    "Using the layers in `torch.nn` (which has been imported as `nn`) and the `torch.nn.functional` module (imported as `F`), construct a neural network based on the parameters of the dataset. \n",
    "Feel free to construct a model of any architecture – feedforward, convolutional, or even something more advanced!"
   ]
  },
  {
   "cell_type": "code",
   "execution_count": 5,
   "metadata": {},
   "outputs": [
    {
     "data": {
      "text/plain": [
       "Network(\n",
       "  (fc1): Linear(in_features=3072, out_features=768, bias=True)\n",
       "  (fc2): Linear(in_features=768, out_features=10, bias=True)\n",
       "  (dropout): Dropout(p=0.2)\n",
       ")"
      ]
     },
     "execution_count": 5,
     "metadata": {},
     "output_type": "execute_result"
    }
   ],
   "source": [
    "# from torchvision import models\n",
    "\n",
    "class Network(nn.Module):\n",
    "    def __init__(self):\n",
    "        super().__init__()\n",
    "        self.fc1 = nn.Linear(3072, 768)\n",
    "        self.fc2 = nn.Linear(768, 10)\n",
    "\n",
    "        \n",
    "        self.dropout = nn.Dropout(p=0.2)\n",
    "        \n",
    "    def forward(self, x):\n",
    "        x = x.view(x.shape[0], -1)\n",
    "        \n",
    "        x = self.dropout(F.relu(self.fc1(x)))\n",
    "\n",
    "        \n",
    "        x = F.log_softmax(self.fc2(x), dim=1)\n",
    "        return x\n",
    "\n",
    "\n",
    "model = Network()       \n",
    "model\n"
   ]
  },
  {
   "cell_type": "markdown",
   "metadata": {},
   "source": [
    "Specify a loss function and an optimizer, and instantiate the model.\n",
    "\n",
    "If you use a less common loss function, please note why you chose that loss function in a comment."
   ]
  },
  {
   "cell_type": "code",
   "execution_count": 6,
   "metadata": {},
   "outputs": [
    {
     "name": "stdout",
     "output_type": "stream",
     "text": [
      "cuda\n"
     ]
    }
   ],
   "source": [
    "## YOUR CODE HERE ##\n",
    "criterion = nn.NLLLoss()\n",
    "optimizer = optim.Adam(model.parameters(), lr=0.001)\n",
    "\n",
    "device = torch.device(\"cuda\" if torch.cuda.is_available() else \"cpu\")\n",
    "print(device)"
   ]
  },
  {
   "cell_type": "markdown",
   "metadata": {},
   "source": [
    "## Running your Neural Network\n",
    "Use whatever method you like to train your neural network, and ensure you record the average loss at each epoch. \n",
    "Don't forget to use `torch.device()` and the `.to()` method for both your model and your data if you are using GPU!\n",
    "\n",
    "If you want to print your loss during each epoch, you can use the `enumerate` function and print the loss after a set number of batches. 250 batches works well for most people!"
   ]
  },
  {
   "cell_type": "code",
   "execution_count": 7,
   "metadata": {},
   "outputs": [
    {
     "name": "stdout",
     "output_type": "stream",
     "text": [
      "Epoch: 1/20..  Training Loss: 1.958..  Test Loss: 1.802..  Test Accuracy: 0.360\n",
      "Epoch: 2/20..  Training Loss: 1.809..  Test Loss: 1.714..  Test Accuracy: 0.392\n",
      "Epoch: 3/20..  Training Loss: 1.760..  Test Loss: 1.667..  Test Accuracy: 0.412\n",
      "Epoch: 4/20..  Training Loss: 1.736..  Test Loss: 1.640..  Test Accuracy: 0.417\n",
      "Epoch: 5/20..  Training Loss: 1.710..  Test Loss: 1.619..  Test Accuracy: 0.429\n",
      "Epoch: 6/20..  Training Loss: 1.688..  Test Loss: 1.616..  Test Accuracy: 0.425\n",
      "Epoch: 7/20..  Training Loss: 1.680..  Test Loss: 1.593..  Test Accuracy: 0.437\n",
      "Epoch: 8/20..  Training Loss: 1.664..  Test Loss: 1.569..  Test Accuracy: 0.444\n",
      "Epoch: 9/20..  Training Loss: 1.657..  Test Loss: 1.574..  Test Accuracy: 0.444\n",
      "Epoch: 10/20..  Training Loss: 1.644..  Test Loss: 1.546..  Test Accuracy: 0.452\n",
      "Epoch: 11/20..  Training Loss: 1.637..  Test Loss: 1.559..  Test Accuracy: 0.451\n",
      "Epoch: 12/20..  Training Loss: 1.626..  Test Loss: 1.519..  Test Accuracy: 0.465\n",
      "Epoch: 13/20..  Training Loss: 1.617..  Test Loss: 1.507..  Test Accuracy: 0.469\n",
      "Epoch: 14/20..  Training Loss: 1.618..  Test Loss: 1.527..  Test Accuracy: 0.463\n",
      "Epoch: 15/20..  Training Loss: 1.609..  Test Loss: 1.500..  Test Accuracy: 0.475\n",
      "Epoch: 16/20..  Training Loss: 1.607..  Test Loss: 1.478..  Test Accuracy: 0.482\n",
      "Epoch: 17/20..  Training Loss: 1.602..  Test Loss: 1.514..  Test Accuracy: 0.462\n",
      "Epoch: 18/20..  Training Loss: 1.595..  Test Loss: 1.480..  Test Accuracy: 0.484\n",
      "Epoch: 19/20..  Training Loss: 1.591..  Test Loss: 1.475..  Test Accuracy: 0.485\n",
      "Epoch: 20/20..  Training Loss: 1.588..  Test Loss: 1.466..  Test Accuracy: 0.486\n"
     ]
    }
   ],
   "source": [
    "model.to(device)\n",
    "\n",
    "epochs = 20\n",
    "steps = 0\n",
    "running_loss = 0\n",
    "print_every = 5\n",
    "\n",
    "train_losses, test_losses, accuracy_score = [], [], []\n",
    "for e in range(epochs):\n",
    "    running_loss = 0\n",
    "    for images, labels in trainloader:\n",
    "        images, labels = images.to(device), labels.to(device)\n",
    "        \n",
    "        optimizer.zero_grad()\n",
    "        \n",
    "        log_ps = model(images)\n",
    "        loss = criterion(log_ps, labels)\n",
    "        loss.backward()\n",
    "        optimizer.step()\n",
    "        \n",
    "        running_loss += loss.item()\n",
    "        \n",
    "    else:\n",
    "        test_loss = 0\n",
    "        accuracy = 0\n",
    "        \n",
    "        with torch.no_grad():\n",
    "            \n",
    "            #I used model.eval() to go in evaluation mode for testing\n",
    "            model.eval()\n",
    "            for images, labels in testloader:\n",
    "                images, labels = images.to(device), labels.to(device)\n",
    "\n",
    "                log_ps = model(images)\n",
    "                test_loss += criterion(log_ps, labels)\n",
    "                \n",
    "                ps = torch.exp(log_ps)\n",
    "                top_p, top_class = ps.topk(1, dim=1)\n",
    "                equals = top_class == labels.view(*top_class.shape)\n",
    "                accuracy += torch.mean(equals.type(torch.FloatTensor))\n",
    "        \n",
    "        #I used model.train() to go in training mode for training\n",
    "        model.train()\n",
    "        \n",
    "        train_losses.append(running_loss/len(trainloader))\n",
    "        test_losses.append(test_loss/len(testloader))\n",
    "        \n",
    "        accuracy_score.append(accuracy/len(testloader))\n",
    "\n",
    "        print(\"Epoch: {}/{}.. \".format(e+1, epochs),\n",
    "              \"Training Loss: {:.3f}.. \".format(running_loss/len(trainloader)),\n",
    "              \"Test Loss: {:.3f}.. \".format(test_loss/len(testloader)),\n",
    "              \"Test Accuracy: {:.3f}\".format(accuracy/len(testloader)))"
   ]
  },
  {
   "cell_type": "markdown",
   "metadata": {},
   "source": [
    "Plot the training loss (and validation loss/accuracy, if recorded)."
   ]
  },
  {
   "cell_type": "code",
   "execution_count": 8,
   "metadata": {},
   "outputs": [
    {
     "data": {
      "image/png": "[encoded data removed]",
      "text/plain": [
       "<matplotlib.figure.Figure at 0x7feb59fbe048>"
      ]
     },
     "metadata": {
      "needs_background": "light"
     },
     "output_type": "display_data"
    },
    {
     "data": {
      "image/png": "[encoded data removed]",
      "text/plain": [
       "<matplotlib.figure.Figure at 0x7feb58339e10>"
      ]
     },
     "metadata": {
      "needs_background": "light"
     },
     "output_type": "display_data"
    }
   ],
   "source": [
    "## YOUR CODE HERE ##\n",
    "\n",
    "plt.plot(train_losses, label='Training loss')\n",
    "plt.plot(test_losses, label='Validation loss')\n",
    "plt.legend(frameon=False)\n",
    "plt.show()\n",
    "\n",
    "plt.plot(accuracy_score, label='Accuracy score')\n",
    "plt.legend(frameon=False)\n",
    "plt.show()"
   ]
  },
  {
   "cell_type": "markdown",
   "metadata": {},
   "source": [
    "## Testing your model\n",
    "Using the previously created `DataLoader` for the test set, compute the percentage of correct predictions using the highest probability prediction. \n",
    "\n",
    "If your accuracy is over 70%, great work! \n",
    "This is a hard task to exceed 70% on.\n",
    "\n",
    "If your accuracy is under 45%, you'll need to make improvements.\n",
    "Go back and check your model architecture, loss function, and optimizer to make sure they're appropriate for an image classification task."
   ]
  },
  {
   "cell_type": "code",
   "execution_count": 9,
   "metadata": {},
   "outputs": [
    {
     "name": "stdout",
     "output_type": "stream",
     "text": [
      "Highest Accuracy score: 48.557%.\t  Average Train Loss: 1.670.\t  Average Test Loss: 1.568. \n"
     ]
    }
   ],
   "source": [
    "## YOUR CODE HERE ##\n",
    "import numpy\n",
    "print(\"Highest Accuracy score: {:.3f}%.\\t \".format(max(accuracy_score)*100),\n",
    "      \"Average Train Loss: {:.3f}.\\t \".format(numpy.mean(train_losses)),\n",
    "      \"Average Test Loss: {:.3f}. \".format(numpy.mean(test_losses)))\n",
    "#This is not accuracy score? please help me here how to get the accuracy score if that's not it, thanks."
   ]
  },
  {
   "cell_type": "markdown",
   "metadata": {},
   "source": [
    "## Saving your model\n",
    "Using `torch.save`, save your model for future loading."
   ]
  },
  {
   "cell_type": "code",
   "execution_count": 10,
   "metadata": {},
   "outputs": [
    {
     "name": "stdout",
     "output_type": "stream",
     "text": [
      "DONE\n"
     ]
    }
   ],
   "source": [
    "## YOUR CODE HERE ##\n",
    "checkpoint = {'input_size': 3072,\n",
    "              'output_size': 10,\n",
    "              'hidden_layers': [model.fc1],\n",
    "              'state_dict': model.state_dict()}\n",
    "\n",
    "#Using torch.save to save my model\n",
    "torch.save(checkpoint, 'checkpoint.pth')\n",
    "print(\"DONE\")"
   ]
  },
  {
   "cell_type": "markdown",
   "metadata": {},
   "source": [
    "## Make a Recommendation\n",
    "\n",
    "Based on your evaluation, what is your recommendation on whether to build or buy? Explain your reasoning below.\n",
    "\n",
    "Some things to consider as you formulate your recommendation:\n",
    "* How does your model compare to Detectocorp's model?\n",
    "* How does it compare to the far more advanced solutions in the literature? \n",
    "* What did you do to get the accuracy you achieved? \n",
    "* Is it necessary to improve this accuracy? If so, what sort of work would be involved in improving it?"
   ]
  },
  {
   "cell_type": "markdown",
   "metadata": {},
   "source": [
    "### I would recommend them to buy, unless they're out of budget to buy Detectocorp.\n",
    "\n",
    "Well it's certainly not as good as Detectocorp's model, but it does the job depending on the budget of the company and how important the module is for them\n",
    "\n",
    "It's not as good as these solutions, and there big room of improvement in mine for sure\n",
    "\n",
    "I made a list, added the accuracy score for each epoch, and then took the highest score I acheived and considered that as my accuracy score\n",
    "\n",
    "Using more advanced algorithm will most likely give better scores, and having more transforms and bigger batch_size too.\n"
   ]
  },
  {
   "cell_type": "markdown",
   "metadata": {},
   "source": [
    "## Submit Your Project\n",
    "\n",
    "When you are finished editing the notebook and are ready to turn it in, simply click the **SUBMIT PROJECT** button in the lower right.\n",
    "\n",
    "Once you submit your project, we'll review your work and give you feedback if there's anything that you need to work on. If you'd like to see the exact points that your reviewer will check for when looking at your work, you can have a look over the project [rubric](https://review.udacity.com/#!/rubrics/3077/view)."
   ]
  }
 ],
 "metadata": {
  "kernelspec": {
   "display_name": "Python 3",
   "language": "python",
   "name": "python3"
  },
  "language_info": {
   "codemirror_mode": {
    "name": "ipython",
    "version": 3
   },
   "file_extension": ".py",
   "mimetype": "text/x-python",
   "name": "python",
   "nbconvert_exporter": "python",
   "pygments_lexer": "ipython3",
   "version": "3.6.3"
  }
 },
 "nbformat": 4,
 "nbformat_minor": 4
}
